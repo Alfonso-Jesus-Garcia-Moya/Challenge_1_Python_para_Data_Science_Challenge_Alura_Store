{
  "nbformat": 4,
  "nbformat_minor": 0,
  "metadata": {
    "colab": {
      "provenance": [],
      "include_colab_link": true
    },
    "kernelspec": {
      "name": "python3",
      "display_name": "Python 3"
    },
    "language_info": {
      "name": "python"
    }
  },
  "cells": [
    {
      "cell_type": "markdown",
      "metadata": {
        "id": "view-in-github",
        "colab_type": "text"
      },
      "source": [
        "<a href=\"https://colab.research.google.com/github/Alfonso-Jesus-Garcia-Moya/Challenge_1_Python_para_Data_Science_Challenge_Alura_Store/blob/main/AluraStoreLatam.ipynb\" target=\"_parent\"><img src=\"https://colab.research.google.com/assets/colab-badge.svg\" alt=\"Open In Colab\"/></a>"
      ]
    },
    {
      "cell_type": "markdown",
      "source": [
        "### Importación de datos\n",
        "\n"
      ],
      "metadata": {
        "id": "RhEdWd9YUR6H"
      }
    },
    {
      "cell_type": "code",
      "execution_count": 6,
      "metadata": {
        "colab": {
          "base_uri": "https://localhost:8080/",
          "height": 400
        },
        "id": "T3EvaeQ_INIL",
        "outputId": "42c354b4-4e36-4977-9d57-1797db81d038"
      },
      "outputs": [
        {
          "output_type": "execute_result",
          "data": {
            "text/plain": [
              "            Producto Categoría del Producto    Precio  Costo de envío  \\\n",
              "0  Asistente virtual           Electrónicos  164300.0          6900.0   \n",
              "1    Mesa de comedor                Muebles  192300.0          8400.0   \n",
              "2      Juego de mesa               Juguetes  209600.0         15900.0   \n",
              "3         Microondas      Electrodomésticos  757500.0         41000.0   \n",
              "4   Silla de oficina                Muebles  335200.0         20200.0   \n",
              "\n",
              "  Fecha de Compra         Vendedor Lugar de Compra  Calificación  \\\n",
              "0      16/01/2021      Pedro Gomez          Bogotá             4   \n",
              "1      18/05/2022  Beatriz Morales        Medellín             1   \n",
              "2      15/03/2021   Juan Fernandez       Cartagena             1   \n",
              "3      03/05/2022   Juan Fernandez            Cali             4   \n",
              "4      07/11/2020    Maria Alfonso        Medellín             5   \n",
              "\n",
              "       Método de pago  Cantidad de cuotas       lat       lon  \n",
              "0  Tarjeta de crédito                   8   4.60971 -74.08175  \n",
              "1  Tarjeta de crédito                   4   6.25184 -75.56359  \n",
              "2  Tarjeta de crédito                   1  10.39972 -75.51444  \n",
              "3               Nequi                   1   3.43722 -76.52250  \n",
              "4               Nequi                   1   6.25184 -75.56359  "
            ],
            "text/html": [
              "\n",
              "  <div id=\"df-7e9b867a-0d40-4655-818a-ab80d6d78e22\" class=\"colab-df-container\">\n",
              "    <div>\n",
              "<style scoped>\n",
              "    .dataframe tbody tr th:only-of-type {\n",
              "        vertical-align: middle;\n",
              "    }\n",
              "\n",
              "    .dataframe tbody tr th {\n",
              "        vertical-align: top;\n",
              "    }\n",
              "\n",
              "    .dataframe thead th {\n",
              "        text-align: right;\n",
              "    }\n",
              "</style>\n",
              "<table border=\"1\" class=\"dataframe\">\n",
              "  <thead>\n",
              "    <tr style=\"text-align: right;\">\n",
              "      <th></th>\n",
              "      <th>Producto</th>\n",
              "      <th>Categoría del Producto</th>\n",
              "      <th>Precio</th>\n",
              "      <th>Costo de envío</th>\n",
              "      <th>Fecha de Compra</th>\n",
              "      <th>Vendedor</th>\n",
              "      <th>Lugar de Compra</th>\n",
              "      <th>Calificación</th>\n",
              "      <th>Método de pago</th>\n",
              "      <th>Cantidad de cuotas</th>\n",
              "      <th>lat</th>\n",
              "      <th>lon</th>\n",
              "    </tr>\n",
              "  </thead>\n",
              "  <tbody>\n",
              "    <tr>\n",
              "      <th>0</th>\n",
              "      <td>Asistente virtual</td>\n",
              "      <td>Electrónicos</td>\n",
              "      <td>164300.0</td>\n",
              "      <td>6900.0</td>\n",
              "      <td>16/01/2021</td>\n",
              "      <td>Pedro Gomez</td>\n",
              "      <td>Bogotá</td>\n",
              "      <td>4</td>\n",
              "      <td>Tarjeta de crédito</td>\n",
              "      <td>8</td>\n",
              "      <td>4.60971</td>\n",
              "      <td>-74.08175</td>\n",
              "    </tr>\n",
              "    <tr>\n",
              "      <th>1</th>\n",
              "      <td>Mesa de comedor</td>\n",
              "      <td>Muebles</td>\n",
              "      <td>192300.0</td>\n",
              "      <td>8400.0</td>\n",
              "      <td>18/05/2022</td>\n",
              "      <td>Beatriz Morales</td>\n",
              "      <td>Medellín</td>\n",
              "      <td>1</td>\n",
              "      <td>Tarjeta de crédito</td>\n",
              "      <td>4</td>\n",
              "      <td>6.25184</td>\n",
              "      <td>-75.56359</td>\n",
              "    </tr>\n",
              "    <tr>\n",
              "      <th>2</th>\n",
              "      <td>Juego de mesa</td>\n",
              "      <td>Juguetes</td>\n",
              "      <td>209600.0</td>\n",
              "      <td>15900.0</td>\n",
              "      <td>15/03/2021</td>\n",
              "      <td>Juan Fernandez</td>\n",
              "      <td>Cartagena</td>\n",
              "      <td>1</td>\n",
              "      <td>Tarjeta de crédito</td>\n",
              "      <td>1</td>\n",
              "      <td>10.39972</td>\n",
              "      <td>-75.51444</td>\n",
              "    </tr>\n",
              "    <tr>\n",
              "      <th>3</th>\n",
              "      <td>Microondas</td>\n",
              "      <td>Electrodomésticos</td>\n",
              "      <td>757500.0</td>\n",
              "      <td>41000.0</td>\n",
              "      <td>03/05/2022</td>\n",
              "      <td>Juan Fernandez</td>\n",
              "      <td>Cali</td>\n",
              "      <td>4</td>\n",
              "      <td>Nequi</td>\n",
              "      <td>1</td>\n",
              "      <td>3.43722</td>\n",
              "      <td>-76.52250</td>\n",
              "    </tr>\n",
              "    <tr>\n",
              "      <th>4</th>\n",
              "      <td>Silla de oficina</td>\n",
              "      <td>Muebles</td>\n",
              "      <td>335200.0</td>\n",
              "      <td>20200.0</td>\n",
              "      <td>07/11/2020</td>\n",
              "      <td>Maria Alfonso</td>\n",
              "      <td>Medellín</td>\n",
              "      <td>5</td>\n",
              "      <td>Nequi</td>\n",
              "      <td>1</td>\n",
              "      <td>6.25184</td>\n",
              "      <td>-75.56359</td>\n",
              "    </tr>\n",
              "  </tbody>\n",
              "</table>\n",
              "</div>\n",
              "    <div class=\"colab-df-buttons\">\n",
              "\n",
              "  <div class=\"colab-df-container\">\n",
              "    <button class=\"colab-df-convert\" onclick=\"convertToInteractive('df-7e9b867a-0d40-4655-818a-ab80d6d78e22')\"\n",
              "            title=\"Convert this dataframe to an interactive table.\"\n",
              "            style=\"display:none;\">\n",
              "\n",
              "  <svg xmlns=\"http://www.w3.org/2000/svg\" height=\"24px\" viewBox=\"0 -960 960 960\">\n",
              "    <path d=\"M120-120v-720h720v720H120Zm60-500h600v-160H180v160Zm220 220h160v-160H400v160Zm0 220h160v-160H400v160ZM180-400h160v-160H180v160Zm440 0h160v-160H620v160ZM180-180h160v-160H180v160Zm440 0h160v-160H620v160Z\"/>\n",
              "  </svg>\n",
              "    </button>\n",
              "\n",
              "  <style>\n",
              "    .colab-df-container {\n",
              "      display:flex;\n",
              "      gap: 12px;\n",
              "    }\n",
              "\n",
              "    .colab-df-convert {\n",
              "      background-color: #E8F0FE;\n",
              "      border: none;\n",
              "      border-radius: 50%;\n",
              "      cursor: pointer;\n",
              "      display: none;\n",
              "      fill: #1967D2;\n",
              "      height: 32px;\n",
              "      padding: 0 0 0 0;\n",
              "      width: 32px;\n",
              "    }\n",
              "\n",
              "    .colab-df-convert:hover {\n",
              "      background-color: #E2EBFA;\n",
              "      box-shadow: 0px 1px 2px rgba(60, 64, 67, 0.3), 0px 1px 3px 1px rgba(60, 64, 67, 0.15);\n",
              "      fill: #174EA6;\n",
              "    }\n",
              "\n",
              "    .colab-df-buttons div {\n",
              "      margin-bottom: 4px;\n",
              "    }\n",
              "\n",
              "    [theme=dark] .colab-df-convert {\n",
              "      background-color: #3B4455;\n",
              "      fill: #D2E3FC;\n",
              "    }\n",
              "\n",
              "    [theme=dark] .colab-df-convert:hover {\n",
              "      background-color: #434B5C;\n",
              "      box-shadow: 0px 1px 3px 1px rgba(0, 0, 0, 0.15);\n",
              "      filter: drop-shadow(0px 1px 2px rgba(0, 0, 0, 0.3));\n",
              "      fill: #FFFFFF;\n",
              "    }\n",
              "  </style>\n",
              "\n",
              "    <script>\n",
              "      const buttonEl =\n",
              "        document.querySelector('#df-7e9b867a-0d40-4655-818a-ab80d6d78e22 button.colab-df-convert');\n",
              "      buttonEl.style.display =\n",
              "        google.colab.kernel.accessAllowed ? 'block' : 'none';\n",
              "\n",
              "      async function convertToInteractive(key) {\n",
              "        const element = document.querySelector('#df-7e9b867a-0d40-4655-818a-ab80d6d78e22');\n",
              "        const dataTable =\n",
              "          await google.colab.kernel.invokeFunction('convertToInteractive',\n",
              "                                                    [key], {});\n",
              "        if (!dataTable) return;\n",
              "\n",
              "        const docLinkHtml = 'Like what you see? Visit the ' +\n",
              "          '<a target=\"_blank\" href=https://colab.research.google.com/notebooks/data_table.ipynb>data table notebook</a>'\n",
              "          + ' to learn more about interactive tables.';\n",
              "        element.innerHTML = '';\n",
              "        dataTable['output_type'] = 'display_data';\n",
              "        await google.colab.output.renderOutput(dataTable, element);\n",
              "        const docLink = document.createElement('div');\n",
              "        docLink.innerHTML = docLinkHtml;\n",
              "        element.appendChild(docLink);\n",
              "      }\n",
              "    </script>\n",
              "  </div>\n",
              "\n",
              "\n",
              "<div id=\"df-b37011bf-7abc-4eca-933e-73f1b5e6ff9c\">\n",
              "  <button class=\"colab-df-quickchart\" onclick=\"quickchart('df-b37011bf-7abc-4eca-933e-73f1b5e6ff9c')\"\n",
              "            title=\"Suggest charts\"\n",
              "            style=\"display:none;\">\n",
              "\n",
              "<svg xmlns=\"http://www.w3.org/2000/svg\" height=\"24px\"viewBox=\"0 0 24 24\"\n",
              "     width=\"24px\">\n",
              "    <g>\n",
              "        <path d=\"M19 3H5c-1.1 0-2 .9-2 2v14c0 1.1.9 2 2 2h14c1.1 0 2-.9 2-2V5c0-1.1-.9-2-2-2zM9 17H7v-7h2v7zm4 0h-2V7h2v10zm4 0h-2v-4h2v4z\"/>\n",
              "    </g>\n",
              "</svg>\n",
              "  </button>\n",
              "\n",
              "<style>\n",
              "  .colab-df-quickchart {\n",
              "      --bg-color: #E8F0FE;\n",
              "      --fill-color: #1967D2;\n",
              "      --hover-bg-color: #E2EBFA;\n",
              "      --hover-fill-color: #174EA6;\n",
              "      --disabled-fill-color: #AAA;\n",
              "      --disabled-bg-color: #DDD;\n",
              "  }\n",
              "\n",
              "  [theme=dark] .colab-df-quickchart {\n",
              "      --bg-color: #3B4455;\n",
              "      --fill-color: #D2E3FC;\n",
              "      --hover-bg-color: #434B5C;\n",
              "      --hover-fill-color: #FFFFFF;\n",
              "      --disabled-bg-color: #3B4455;\n",
              "      --disabled-fill-color: #666;\n",
              "  }\n",
              "\n",
              "  .colab-df-quickchart {\n",
              "    background-color: var(--bg-color);\n",
              "    border: none;\n",
              "    border-radius: 50%;\n",
              "    cursor: pointer;\n",
              "    display: none;\n",
              "    fill: var(--fill-color);\n",
              "    height: 32px;\n",
              "    padding: 0;\n",
              "    width: 32px;\n",
              "  }\n",
              "\n",
              "  .colab-df-quickchart:hover {\n",
              "    background-color: var(--hover-bg-color);\n",
              "    box-shadow: 0 1px 2px rgba(60, 64, 67, 0.3), 0 1px 3px 1px rgba(60, 64, 67, 0.15);\n",
              "    fill: var(--button-hover-fill-color);\n",
              "  }\n",
              "\n",
              "  .colab-df-quickchart-complete:disabled,\n",
              "  .colab-df-quickchart-complete:disabled:hover {\n",
              "    background-color: var(--disabled-bg-color);\n",
              "    fill: var(--disabled-fill-color);\n",
              "    box-shadow: none;\n",
              "  }\n",
              "\n",
              "  .colab-df-spinner {\n",
              "    border: 2px solid var(--fill-color);\n",
              "    border-color: transparent;\n",
              "    border-bottom-color: var(--fill-color);\n",
              "    animation:\n",
              "      spin 1s steps(1) infinite;\n",
              "  }\n",
              "\n",
              "  @keyframes spin {\n",
              "    0% {\n",
              "      border-color: transparent;\n",
              "      border-bottom-color: var(--fill-color);\n",
              "      border-left-color: var(--fill-color);\n",
              "    }\n",
              "    20% {\n",
              "      border-color: transparent;\n",
              "      border-left-color: var(--fill-color);\n",
              "      border-top-color: var(--fill-color);\n",
              "    }\n",
              "    30% {\n",
              "      border-color: transparent;\n",
              "      border-left-color: var(--fill-color);\n",
              "      border-top-color: var(--fill-color);\n",
              "      border-right-color: var(--fill-color);\n",
              "    }\n",
              "    40% {\n",
              "      border-color: transparent;\n",
              "      border-right-color: var(--fill-color);\n",
              "      border-top-color: var(--fill-color);\n",
              "    }\n",
              "    60% {\n",
              "      border-color: transparent;\n",
              "      border-right-color: var(--fill-color);\n",
              "    }\n",
              "    80% {\n",
              "      border-color: transparent;\n",
              "      border-right-color: var(--fill-color);\n",
              "      border-bottom-color: var(--fill-color);\n",
              "    }\n",
              "    90% {\n",
              "      border-color: transparent;\n",
              "      border-bottom-color: var(--fill-color);\n",
              "    }\n",
              "  }\n",
              "</style>\n",
              "\n",
              "  <script>\n",
              "    async function quickchart(key) {\n",
              "      const quickchartButtonEl =\n",
              "        document.querySelector('#' + key + ' button');\n",
              "      quickchartButtonEl.disabled = true;  // To prevent multiple clicks.\n",
              "      quickchartButtonEl.classList.add('colab-df-spinner');\n",
              "      try {\n",
              "        const charts = await google.colab.kernel.invokeFunction(\n",
              "            'suggestCharts', [key], {});\n",
              "      } catch (error) {\n",
              "        console.error('Error during call to suggestCharts:', error);\n",
              "      }\n",
              "      quickchartButtonEl.classList.remove('colab-df-spinner');\n",
              "      quickchartButtonEl.classList.add('colab-df-quickchart-complete');\n",
              "    }\n",
              "    (() => {\n",
              "      let quickchartButtonEl =\n",
              "        document.querySelector('#df-b37011bf-7abc-4eca-933e-73f1b5e6ff9c button');\n",
              "      quickchartButtonEl.style.display =\n",
              "        google.colab.kernel.accessAllowed ? 'block' : 'none';\n",
              "    })();\n",
              "  </script>\n",
              "</div>\n",
              "\n",
              "    </div>\n",
              "  </div>\n"
            ],
            "application/vnd.google.colaboratory.intrinsic+json": {
              "type": "dataframe",
              "variable_name": "tienda",
              "summary": "{\n  \"name\": \"tienda\",\n  \"rows\": 2359,\n  \"fields\": [\n    {\n      \"column\": \"Producto\",\n      \"properties\": {\n        \"dtype\": \"category\",\n        \"num_unique_values\": 51,\n        \"samples\": [\n          \"Guitarra ac\\u00fastica\",\n          \"Bal\\u00f3n de baloncesto\",\n          \"Smartwatch\"\n        ],\n        \"semantic_type\": \"\",\n        \"description\": \"\"\n      }\n    },\n    {\n      \"column\": \"Categor\\u00eda del Producto\",\n      \"properties\": {\n        \"dtype\": \"category\",\n        \"num_unique_values\": 8,\n        \"samples\": [\n          \"Muebles\",\n          \"Deportes y diversi\\u00f3n\",\n          \"Electr\\u00f3nicos\"\n        ],\n        \"semantic_type\": \"\",\n        \"description\": \"\"\n      }\n    },\n    {\n      \"column\": \"Precio\",\n      \"properties\": {\n        \"dtype\": \"number\",\n        \"std\": 614686.7653873172,\n        \"min\": 7600.0,\n        \"max\": 2977000.0,\n        \"num_unique_values\": 1937,\n        \"samples\": [\n          2499400.0,\n          14800.0,\n          80500.0\n        ],\n        \"semantic_type\": \"\",\n        \"description\": \"\"\n      }\n    },\n    {\n      \"column\": \"Costo de env\\u00edo\",\n      \"properties\": {\n        \"dtype\": \"number\",\n        \"std\": 32860.0017825605,\n        \"min\": 0.0,\n        \"max\": 160800.0,\n        \"num_unique_values\": 753,\n        \"samples\": [\n          117800.0,\n          54700.0,\n          45600.0\n        ],\n        \"semantic_type\": \"\",\n        \"description\": \"\"\n      }\n    },\n    {\n      \"column\": \"Fecha de Compra\",\n      \"properties\": {\n        \"dtype\": \"object\",\n        \"num_unique_values\": 1018,\n        \"samples\": [\n          \"15/09/2022\",\n          \"03/06/2020\",\n          \"06/11/2021\"\n        ],\n        \"semantic_type\": \"\",\n        \"description\": \"\"\n      }\n    },\n    {\n      \"column\": \"Vendedor\",\n      \"properties\": {\n        \"dtype\": \"category\",\n        \"num_unique_values\": 14,\n        \"samples\": [\n          \"Juliana Costa\",\n          \"Mariana Herrera\",\n          \"Pedro Gomez\"\n        ],\n        \"semantic_type\": \"\",\n        \"description\": \"\"\n      }\n    },\n    {\n      \"column\": \"Lugar de Compra\",\n      \"properties\": {\n        \"dtype\": \"category\",\n        \"num_unique_values\": 19,\n        \"samples\": [\n          \"Bogot\\u00e1\",\n          \"Pereira\",\n          \"Neiva\"\n        ],\n        \"semantic_type\": \"\",\n        \"description\": \"\"\n      }\n    },\n    {\n      \"column\": \"Calificaci\\u00f3n\",\n      \"properties\": {\n        \"dtype\": \"number\",\n        \"std\": 1,\n        \"min\": 1,\n        \"max\": 5,\n        \"num_unique_values\": 5,\n        \"samples\": [\n          1,\n          2,\n          5\n        ],\n        \"semantic_type\": \"\",\n        \"description\": \"\"\n      }\n    },\n    {\n      \"column\": \"M\\u00e9todo de pago\",\n      \"properties\": {\n        \"dtype\": \"category\",\n        \"num_unique_values\": 4,\n        \"samples\": [\n          \"Nequi\",\n          \"Tarjeta de d\\u00e9bito\",\n          \"Tarjeta de cr\\u00e9dito\"\n        ],\n        \"semantic_type\": \"\",\n        \"description\": \"\"\n      }\n    },\n    {\n      \"column\": \"Cantidad de cuotas\",\n      \"properties\": {\n        \"dtype\": \"number\",\n        \"std\": 2,\n        \"min\": 1,\n        \"max\": 24,\n        \"num_unique_values\": 15,\n        \"samples\": [\n          7,\n          14,\n          8\n        ],\n        \"semantic_type\": \"\",\n        \"description\": \"\"\n      }\n    },\n    {\n      \"column\": \"lat\",\n      \"properties\": {\n        \"dtype\": \"number\",\n        \"std\": 2.2874452492678627,\n        \"min\": -4.21528,\n        \"max\": 11.54444,\n        \"num_unique_values\": 19,\n        \"samples\": [\n          4.60971,\n          4.81333,\n          2.9273\n        ],\n        \"semantic_type\": \"\",\n        \"description\": \"\"\n      }\n    },\n    {\n      \"column\": \"lon\",\n      \"properties\": {\n        \"dtype\": \"number\",\n        \"std\": 1.2178272727088486,\n        \"min\": -77.28111,\n        \"max\": -67.9239,\n        \"num_unique_values\": 19,\n        \"samples\": [\n          -74.08175,\n          -75.69611,\n          -75.28189\n        ],\n        \"semantic_type\": \"\",\n        \"description\": \"\"\n      }\n    }\n  ]\n}"
            }
          },
          "metadata": {},
          "execution_count": 6
        }
      ],
      "source": [
        "import pandas as pd\n",
        "\n",
        "url = \"https://raw.githubusercontent.com/alura-es-cursos/challenge1-data-science-latam/refs/heads/main/base-de-datos-challenge1-latam/tienda_1%20.csv\"\n",
        "url2 = \"https://raw.githubusercontent.com/alura-es-cursos/challenge1-data-science-latam/refs/heads/main/base-de-datos-challenge1-latam/tienda_2.csv\"\n",
        "url3 = \"https://raw.githubusercontent.com/alura-es-cursos/challenge1-data-science-latam/refs/heads/main/base-de-datos-challenge1-latam/tienda_3.csv\"\n",
        "url4 = \"https://raw.githubusercontent.com/alura-es-cursos/challenge1-data-science-latam/refs/heads/main/base-de-datos-challenge1-latam/tienda_4.csv\"\n",
        "\n",
        "tienda = pd.read_csv(url)\n",
        "tienda2 = pd.read_csv(url2)\n",
        "tienda3 = pd.read_csv(url3)\n",
        "tienda4 = pd.read_csv(url4)\n",
        "\n",
        "tienda.head()"
      ]
    },
    {
      "cell_type": "markdown",
      "source": [
        "#1. Análisis de facturación\n",
        "\n"
      ],
      "metadata": {
        "id": "X62IW3KFUIYm"
      }
    },
    {
      "cell_type": "code",
      "source": [
        "print(tienda.columns)"
      ],
      "metadata": {
        "id": "KDyr8E71V3m-",
        "colab": {
          "base_uri": "https://localhost:8080/"
        },
        "outputId": "fadd3c56-44a8-42d6-9379-4a8c72922d8c"
      },
      "execution_count": 10,
      "outputs": [
        {
          "output_type": "stream",
          "name": "stdout",
          "text": [
            "Index(['Producto', 'Categoría del Producto', 'Precio', 'Costo de envío',\n",
            "       'Fecha de Compra', 'Vendedor', 'Lugar de Compra', 'Calificación',\n",
            "       'Método de pago', 'Cantidad de cuotas', 'lat', 'lon'],\n",
            "      dtype='object')\n"
          ]
        }
      ]
    },
    {
      "cell_type": "code",
      "source": [
        "suma_de_precios = tienda[\"Precio\"].sum()\n",
        "print(suma_de_precios)"
      ],
      "metadata": {
        "id": "xykobSftV64I",
        "colab": {
          "base_uri": "https://localhost:8080/"
        },
        "collapsed": true,
        "outputId": "2559a134-6cb4-4a4a-cd87-d18311861638"
      },
      "execution_count": 11,
      "outputs": [
        {
          "output_type": "stream",
          "name": "stdout",
          "text": [
            "1150880400.0\n"
          ]
        }
      ]
    },
    {
      "cell_type": "code",
      "source": [
        "#Primero reconoceria el nombre de cada encabezado de columnas.\n",
        "print(tienda.columns)"
      ],
      "metadata": {
        "id": "t3hsUPwcMSWV"
      },
      "execution_count": null,
      "outputs": []
    },
    {
      "cell_type": "code",
      "source": [
        "#Creare una lista de los dataframes para usarla como lista iterable\n",
        "#crearé otra lista vacia de la suma de los precios de cada tienda.\n",
        "\n",
        "tiendas = [tienda, tienda2, tienda3, tienda4]\n",
        "\n",
        "suma_de_precios_por_tienda = []\n",
        "\n",
        "# Sumaré los Precios es el costo por el cual se vendio cada producto de cada tienda, usando la lista tiendas de forma iterable.\n",
        "\n",
        "for tienda_dataframe in tiendas :\n",
        "  suma_de_Precios = tienda_dataframe[\"Precio\"].sum()\n",
        "\n",
        "#Agregaré cada suma de precios por tienda a al lista vacia anteriormente creada suma_de_precios_por_tienda\n",
        "\n",
        "  suma_de_precios_por_tienda.append(suma_de_Precios)\n",
        "\n",
        "print(suma_de_precios_por_tienda)\n",
        "\n",
        "\n"
      ],
      "metadata": {
        "collapsed": true,
        "id": "rFYPXYf1MzuQ",
        "outputId": "51425ad3-5141-4d3a-9142-22e5e32d0c06",
        "colab": {
          "base_uri": "https://localhost:8080/"
        }
      },
      "execution_count": 34,
      "outputs": [
        {
          "output_type": "stream",
          "name": "stdout",
          "text": [
            "[np.float64(1150880400.0), np.float64(1116343500.0), np.float64(1098019600.0), np.float64(1038375700.0)]\n"
          ]
        }
      ]
    },
    {
      "cell_type": "code",
      "source": [
        "#Generare una lista de tuplas con nombre del dataframe de las tiendas y el resutados de la suma_de_precios_por_tienda\n",
        "\n",
        "resultado_de_tienda_y_suma_de_precios = tuple(zip(tiendas, suma_de_precios_por_tienda))\n",
        "\n",
        "print(resultado_de_tienda_y_suma_de_precios)"
      ],
      "metadata": {
        "id": "hyNRm771MziJ",
        "outputId": "d6254753-1ba5-489d-9b08-75a9464365e6",
        "colab": {
          "base_uri": "https://localhost:8080/"
        }
      },
      "execution_count": 36,
      "outputs": [
        {
          "output_type": "stream",
          "name": "stdout",
          "text": [
            "((               Producto Categoría del Producto     Precio  Costo de envío  \\\n",
            "0     Asistente virtual           Electrónicos   164300.0          6900.0   \n",
            "1       Mesa de comedor                Muebles   192300.0          8400.0   \n",
            "2         Juego de mesa               Juguetes   209600.0         15900.0   \n",
            "3            Microondas      Electrodomésticos   757500.0         41000.0   \n",
            "4      Silla de oficina                Muebles   335200.0         20200.0   \n",
            "...                 ...                    ...        ...             ...   \n",
            "2354          Iphone 15           Electrónicos  1284400.0         66600.0   \n",
            "2355          Impresora           Electrónicos   282800.0         15300.0   \n",
            "2356      Juego de mesa               Juguetes   122900.0          7200.0   \n",
            "2357           Cama box                Muebles   691300.0         35000.0   \n",
            "2358         Smartwatch           Electrónicos   195000.0          8600.0   \n",
            "\n",
            "     Fecha de Compra         Vendedor Lugar de Compra  Calificación  \\\n",
            "0         16/01/2021      Pedro Gomez          Bogotá             4   \n",
            "1         18/05/2022  Beatriz Morales        Medellín             1   \n",
            "2         15/03/2021   Juan Fernandez       Cartagena             1   \n",
            "3         03/05/2022   Juan Fernandez            Cali             4   \n",
            "4         07/11/2020    Maria Alfonso        Medellín             5   \n",
            "...              ...              ...             ...           ...   \n",
            "2354      15/11/2021  Izabela de León        Medellín             1   \n",
            "2355      18/03/2023    Lucas Olivera          Bogotá             5   \n",
            "2356      06/07/2021    Lucas Olivera            Cali             5   \n",
            "2357      02/05/2022      Pedro Gomez           Pasto             1   \n",
            "2358      18/06/2022    Felipe Santos            Cali             4   \n",
            "\n",
            "          Método de pago  Cantidad de cuotas       lat       lon  \n",
            "0     Tarjeta de crédito                   8   4.60971 -74.08175  \n",
            "1     Tarjeta de crédito                   4   6.25184 -75.56359  \n",
            "2     Tarjeta de crédito                   1  10.39972 -75.51444  \n",
            "3                  Nequi                   1   3.43722 -76.52250  \n",
            "4                  Nequi                   1   6.25184 -75.56359  \n",
            "...                  ...                 ...       ...       ...  \n",
            "2354               Nequi                   1   6.25184 -75.56359  \n",
            "2355               Nequi                   1   4.60971 -74.08175  \n",
            "2356  Tarjeta de crédito                   4   3.43722 -76.52250  \n",
            "2357  Tarjeta de crédito                   2   1.21361 -77.28111  \n",
            "2358  Tarjeta de crédito                   1   3.43722 -76.52250  \n",
            "\n",
            "[2359 rows x 12 columns], np.float64(1150880400.0)), (              Producto   Categoría del Producto     Precio  Costo de envío  \\\n",
            "0     Silla de oficina                  Muebles   283600.0         15300.0   \n",
            "1            Pandereta   Instrumentos musicales    76800.0          2300.0   \n",
            "2            Cama king                  Muebles   443300.0         23800.0   \n",
            "3            Cama king                  Muebles   906200.0         46400.0   \n",
            "4     Silla de oficina                  Muebles   397800.0         19400.0   \n",
            "...                ...                      ...        ...             ...   \n",
            "2354      Set de ollas  Artículos para el hogar   140300.0          8100.0   \n",
            "2355  Lavadora de ropa        Electrodomésticos  1220100.0         65200.0   \n",
            "2356        Microondas        Electrodomésticos   797900.0         42900.0   \n",
            "2357         Iphone 15             Electrónicos  2224300.0        116600.0   \n",
            "2358         Bicicleta     Deportes y diversión   551000.0         27500.0   \n",
            "\n",
            "     Fecha de Compra         Vendedor Lugar de Compra  Calificación  \\\n",
            "0         04/08/2021  Izabela de León        Medellín             1   \n",
            "1         26/11/2020   Blanca Ramirez        Medellín             3   \n",
            "2         22/10/2021  Izabela de León         Pereira             5   \n",
            "3         04/05/2022    Maria Alfonso            Cali             5   \n",
            "4         26/02/2022    Lucas Olivera          Bogotá             4   \n",
            "...              ...              ...             ...           ...   \n",
            "2354      04/12/2022  Ángel Rodriguez    Barranquilla             5   \n",
            "2355      09/02/2020   Santiago Silva          Bogotá             4   \n",
            "2356      27/09/2022   Blanca Ramirez          Bogotá             5   \n",
            "2357      21/04/2022   Juan Fernandez        Medellín             5   \n",
            "2358      03/09/2022    Maria Alfonso        Medellín             4   \n",
            "\n",
            "          Método de pago  Cantidad de cuotas       lat       lon  \n",
            "0                  Nequi                   1   6.25184 -75.56359  \n",
            "1     Tarjeta de crédito                   4   6.25184 -75.56359  \n",
            "2     Tarjeta de crédito                  10   4.81333 -75.69611  \n",
            "3     Tarjeta de crédito                  10   3.43722 -76.52250  \n",
            "4     Tarjeta de crédito                   3   4.60971 -74.08175  \n",
            "...                  ...                 ...       ...       ...  \n",
            "2354  Tarjeta de crédito                   2  10.96854 -74.78132  \n",
            "2355  Tarjeta de crédito                   5   4.60971 -74.08175  \n",
            "2356               Nequi                   1   4.60971 -74.08175  \n",
            "2357  Tarjeta de crédito                   2   6.25184 -75.56359  \n",
            "2358  Tarjeta de crédito                   1   6.25184 -75.56359  \n",
            "\n",
            "[2359 rows x 12 columns], np.float64(1116343500.0)), (                     Producto  Categoría del Producto     Precio  \\\n",
            "0            Secadora de ropa       Electrodomésticos  1285100.0   \n",
            "1               Mesa de noche                 Muebles   290100.0   \n",
            "2           Guitarra acústica  Instrumentos musicales   303500.0   \n",
            "3           Balón de voleibol    Deportes y diversión    58800.0   \n",
            "4                     Armario                 Muebles   521100.0   \n",
            "...                       ...                     ...        ...   \n",
            "2354  Dashboards con Power BI                  Libros    26700.0   \n",
            "2355  Dashboards con Power BI                  Libros    31800.0   \n",
            "2356         Silla de oficina                 Muebles   477100.0   \n",
            "2357           Mesa de centro                 Muebles   123100.0   \n",
            "2358      Modelado predictivo                  Libros    63400.0   \n",
            "\n",
            "      Costo de envío Fecha de Compra         Vendedor Lugar de Compra  \\\n",
            "0            66600.0      17/12/2021    Camila Rivera     Santa Marta   \n",
            "1            13600.0      10/02/2021    Maria Alfonso            Cali   \n",
            "2            17400.0      22/01/2023    Lucas Olivera          Bogotá   \n",
            "3             3300.0      22/03/2022      Pedro Gomez    Barranquilla   \n",
            "4            25900.0      12/01/2022   Blanca Ramirez          Bogotá   \n",
            "...              ...             ...              ...             ...   \n",
            "2354          2100.0      21/10/2022  Ángel Rodriguez          Bogotá   \n",
            "2355          2200.0      23/06/2022   Blanca Ramirez         Pereira   \n",
            "2356         25600.0      19/02/2023    Camila Rivera       Cartagena   \n",
            "2357          4700.0      19/09/2021   Blanca Ramirez          Bogotá   \n",
            "2358          9400.0      24/05/2022  Mariana Herrera        Medellín   \n",
            "\n",
            "      Calificación      Método de pago  Cantidad de cuotas       lat       lon  \n",
            "0                4  Tarjeta de crédito                   4  11.24079 -74.19904  \n",
            "1                3  Tarjeta de crédito                   1   3.43722 -76.52250  \n",
            "2                5  Tarjeta de crédito                   3   4.60971 -74.08175  \n",
            "3                4  Tarjeta de crédito                   6  10.96854 -74.78132  \n",
            "4                1  Tarjeta de crédito                   1   4.60971 -74.08175  \n",
            "...            ...                 ...                 ...       ...       ...  \n",
            "2354             5  Tarjeta de crédito                   1   4.60971 -74.08175  \n",
            "2355             5  Tarjeta de crédito                   1   4.81333 -75.69611  \n",
            "2356             5  Tarjeta de crédito                   3  10.39972 -75.51444  \n",
            "2357             4  Tarjeta de crédito                   8   4.60971 -74.08175  \n",
            "2358             5  Tarjeta de crédito                  10   6.25184 -75.56359  \n",
            "\n",
            "[2359 rows x 12 columns], np.float64(1098019600.0)), (                 Producto   Categoría del Producto     Precio  Costo de envío  \\\n",
            "0            Lavavajillas        Electrodomésticos  1084800.0         56000.0   \n",
            "1                Cama box                  Muebles   473800.0         25400.0   \n",
            "2     Balón de baloncesto     Deportes y diversión    23700.0             0.0   \n",
            "3     Modelado predictivo                   Libros    57700.0          1300.0   \n",
            "4             Auriculares             Electrónicos   138900.0          5600.0   \n",
            "...                   ...                      ...        ...             ...   \n",
            "2353      Mesa de comedor                  Muebles   227700.0         12600.0   \n",
            "2354     Silla de oficina                  Muebles   342000.0         18600.0   \n",
            "2355         Vaso térmico     Deportes y diversión    36700.0          2400.0   \n",
            "2356         Set de ollas  Artículos para el hogar   151800.0          8300.0   \n",
            "2357   Cuerda para saltar     Deportes y diversión    11200.0          1300.0   \n",
            "\n",
            "     Fecha de Compra         Vendedor Lugar de Compra  Calificación  \\\n",
            "0         11/11/2022    Rafael Acosta          Bogotá             4   \n",
            "1         03/01/2020  Izabela de León          Cúcuta             5   \n",
            "2         25/12/2022    Maria Alfonso        Medellín             5   \n",
            "3         23/11/2021    Lucas Olivera        Medellín             3   \n",
            "4         25/04/2022   Blanca Ramirez          Bogotá             4   \n",
            "...              ...              ...             ...           ...   \n",
            "2353      12/02/2020    Camila Rivera        Medellín             5   \n",
            "2354      17/05/2022    Felipe Santos     Bucaramanga             5   \n",
            "2355      03/05/2022    Camila Rivera          Bogotá             5   \n",
            "2356      15/06/2020   Blanca Ramirez            Cali             5   \n",
            "2357      17/11/2021    Felipe Santos          Bogotá             5   \n",
            "\n",
            "          Método de pago  Cantidad de cuotas      lat       lon  \n",
            "0     Tarjeta de crédito                   3  4.60971 -74.08175  \n",
            "1     Tarjeta de crédito                   2  7.89391 -72.50782  \n",
            "2                  Nequi                   1  6.25184 -75.56359  \n",
            "3                  Nequi                   1  6.25184 -75.56359  \n",
            "4     Tarjeta de crédito                   7  4.60971 -74.08175  \n",
            "...                  ...                 ...      ...       ...  \n",
            "2353  Tarjeta de crédito                   1  6.25184 -75.56359  \n",
            "2354  Tarjeta de crédito                   3  7.12539 -73.11980  \n",
            "2355  Tarjeta de crédito                   1  4.60971 -74.08175  \n",
            "2356  Tarjeta de crédito                   1  3.43722 -76.52250  \n",
            "2357  Tarjeta de crédito                   1  4.60971 -74.08175  \n",
            "\n",
            "[2358 rows x 12 columns], np.float64(1038375700.0)))\n"
          ]
        }
      ]
    },
    {
      "cell_type": "markdown",
      "source": [
        "# 2. Ventas por categoría"
      ],
      "metadata": {
        "id": "2V_vcAPzWZmR"
      }
    },
    {
      "cell_type": "code",
      "source": [],
      "metadata": {
        "id": "A34YupIuYhfF",
        "colab": {
          "base_uri": "https://localhost:8080/",
          "height": 158
        },
        "outputId": "d12c818d-a3d3-4631-d161-a5d9915d1d38"
      },
      "execution_count": 1,
      "outputs": [
        {
          "output_type": "error",
          "ename": "NameError",
          "evalue": "name 'tienda' is not defined",
          "traceback": [
            "\u001b[0;31m---------------------------------------------------------------------------\u001b[0m",
            "\u001b[0;31mNameError\u001b[0m                                 Traceback (most recent call last)",
            "\u001b[0;32m<ipython-input-1-354517a1676a>\u001b[0m in \u001b[0;36m<cell line: 0>\u001b[0;34m()\u001b[0m\n\u001b[0;32m----> 1\u001b[0;31m \u001b[0mventas_por_categoria\u001b[0m \u001b[0;34m=\u001b[0m \u001b[0mtienda\u001b[0m\u001b[0;34m.\u001b[0m\u001b[0mgroupby\u001b[0m\u001b[0;34m(\u001b[0m\u001b[0;34m'categoria'\u001b[0m\u001b[0;34m)\u001b[0m\u001b[0;34m.\u001b[0m\u001b[0msum\u001b[0m\u001b[0;34m(\u001b[0m\u001b[0;34m)\u001b[0m\u001b[0;34m\u001b[0m\u001b[0;34m\u001b[0m\u001b[0m\n\u001b[0m\u001b[1;32m      2\u001b[0m \u001b[0mventas_por_categoria\u001b[0m\u001b[0;34m\u001b[0m\u001b[0;34m\u001b[0m\u001b[0m\n",
            "\u001b[0;31mNameError\u001b[0m: name 'tienda' is not defined"
          ]
        }
      ]
    },
    {
      "cell_type": "code",
      "source": [],
      "metadata": {
        "id": "yZR6cOjXYSk1"
      },
      "execution_count": null,
      "outputs": []
    },
    {
      "cell_type": "markdown",
      "source": [
        "# 3. Calificación promedio de la tienda\n"
      ],
      "metadata": {
        "id": "Rq6tU_xSY3jk"
      }
    },
    {
      "cell_type": "code",
      "source": [],
      "metadata": {
        "id": "bh3jjjJwY5MU"
      },
      "execution_count": null,
      "outputs": []
    },
    {
      "cell_type": "code",
      "source": [],
      "metadata": {
        "id": "I0KkjPoTY88F"
      },
      "execution_count": null,
      "outputs": []
    },
    {
      "cell_type": "markdown",
      "source": [
        "# 4. Productos más y menos vendidos"
      ],
      "metadata": {
        "id": "DmNp1KPBZCm-"
      }
    },
    {
      "cell_type": "code",
      "source": [],
      "metadata": {
        "id": "qoyjqijQZHfF"
      },
      "execution_count": null,
      "outputs": []
    },
    {
      "cell_type": "code",
      "source": [],
      "metadata": {
        "id": "0Sw3sd4IZIGW"
      },
      "execution_count": null,
      "outputs": []
    },
    {
      "cell_type": "markdown",
      "source": [
        "# 5. Envío promedio por tienda"
      ],
      "metadata": {
        "id": "Fl0cGi3bZKqU"
      }
    },
    {
      "cell_type": "code",
      "source": [],
      "metadata": {
        "id": "S2JeaCykZNy9"
      },
      "execution_count": null,
      "outputs": []
    },
    {
      "cell_type": "code",
      "source": [],
      "metadata": {
        "id": "0tSdCie9ZQlt"
      },
      "execution_count": null,
      "outputs": []
    }
  ]
}