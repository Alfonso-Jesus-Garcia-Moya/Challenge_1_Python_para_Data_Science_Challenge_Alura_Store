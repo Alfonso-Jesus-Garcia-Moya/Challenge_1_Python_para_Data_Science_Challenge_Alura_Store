{
  "nbformat": 4,
  "nbformat_minor": 0,
  "metadata": {
    "colab": {
      "provenance": [],
      "include_colab_link": true
    },
    "kernelspec": {
      "name": "python3",
      "display_name": "Python 3"
    },
    "language_info": {
      "name": "python"
    }
  },
  "cells": [
    {
      "cell_type": "markdown",
      "metadata": {
        "id": "view-in-github",
        "colab_type": "text"
      },
      "source": [
        "<a href=\"https://colab.research.google.com/github/Alfonso-Jesus-Garcia-Moya/Challenge_1_Python_para_Data_Science_Challenge_Alura_Store/blob/main/AluraStoreLatam.ipynb\" target=\"_parent\"><img src=\"https://colab.research.google.com/assets/colab-badge.svg\" alt=\"Open In Colab\"/></a>"
      ]
    },
    {
      "cell_type": "markdown",
      "source": [
        "### Importación de datos\n",
        "\n"
      ],
      "metadata": {
        "id": "RhEdWd9YUR6H"
      }
    },
    {
      "cell_type": "code",
      "execution_count": 2,
      "metadata": {
        "colab": {
          "base_uri": "https://localhost:8080/",
          "height": 206
        },
        "id": "T3EvaeQ_INIL",
        "outputId": "da649842-0425-46f5-baa2-54e4ea0c85ff"
      },
      "outputs": [
        {
          "output_type": "execute_result",
          "data": {
            "text/plain": [
              "            Producto Categoría del Producto    Precio  Costo de envío  \\\n",
              "0  Asistente virtual           Electrónicos  164300.0          6900.0   \n",
              "1    Mesa de comedor                Muebles  192300.0          8400.0   \n",
              "2      Juego de mesa               Juguetes  209600.0         15900.0   \n",
              "3         Microondas      Electrodomésticos  757500.0         41000.0   \n",
              "4   Silla de oficina                Muebles  335200.0         20200.0   \n",
              "\n",
              "  Fecha de Compra         Vendedor Lugar de Compra  Calificación  \\\n",
              "0      16/01/2021      Pedro Gomez          Bogotá             4   \n",
              "1      18/05/2022  Beatriz Morales        Medellín             1   \n",
              "2      15/03/2021   Juan Fernandez       Cartagena             1   \n",
              "3      03/05/2022   Juan Fernandez            Cali             4   \n",
              "4      07/11/2020    Maria Alfonso        Medellín             5   \n",
              "\n",
              "       Método de pago  Cantidad de cuotas       lat       lon  \n",
              "0  Tarjeta de crédito                   8   4.60971 -74.08175  \n",
              "1  Tarjeta de crédito                   4   6.25184 -75.56359  \n",
              "2  Tarjeta de crédito                   1  10.39972 -75.51444  \n",
              "3               Nequi                   1   3.43722 -76.52250  \n",
              "4               Nequi                   1   6.25184 -75.56359  "
            ],
            "text/html": [
              "\n",
              "  <div id=\"df-77b11364-0e35-4e4e-bea2-576b6a59fb0c\" class=\"colab-df-container\">\n",
              "    <div>\n",
              "<style scoped>\n",
              "    .dataframe tbody tr th:only-of-type {\n",
              "        vertical-align: middle;\n",
              "    }\n",
              "\n",
              "    .dataframe tbody tr th {\n",
              "        vertical-align: top;\n",
              "    }\n",
              "\n",
              "    .dataframe thead th {\n",
              "        text-align: right;\n",
              "    }\n",
              "</style>\n",
              "<table border=\"1\" class=\"dataframe\">\n",
              "  <thead>\n",
              "    <tr style=\"text-align: right;\">\n",
              "      <th></th>\n",
              "      <th>Producto</th>\n",
              "      <th>Categoría del Producto</th>\n",
              "      <th>Precio</th>\n",
              "      <th>Costo de envío</th>\n",
              "      <th>Fecha de Compra</th>\n",
              "      <th>Vendedor</th>\n",
              "      <th>Lugar de Compra</th>\n",
              "      <th>Calificación</th>\n",
              "      <th>Método de pago</th>\n",
              "      <th>Cantidad de cuotas</th>\n",
              "      <th>lat</th>\n",
              "      <th>lon</th>\n",
              "    </tr>\n",
              "  </thead>\n",
              "  <tbody>\n",
              "    <tr>\n",
              "      <th>0</th>\n",
              "      <td>Asistente virtual</td>\n",
              "      <td>Electrónicos</td>\n",
              "      <td>164300.0</td>\n",
              "      <td>6900.0</td>\n",
              "      <td>16/01/2021</td>\n",
              "      <td>Pedro Gomez</td>\n",
              "      <td>Bogotá</td>\n",
              "      <td>4</td>\n",
              "      <td>Tarjeta de crédito</td>\n",
              "      <td>8</td>\n",
              "      <td>4.60971</td>\n",
              "      <td>-74.08175</td>\n",
              "    </tr>\n",
              "    <tr>\n",
              "      <th>1</th>\n",
              "      <td>Mesa de comedor</td>\n",
              "      <td>Muebles</td>\n",
              "      <td>192300.0</td>\n",
              "      <td>8400.0</td>\n",
              "      <td>18/05/2022</td>\n",
              "      <td>Beatriz Morales</td>\n",
              "      <td>Medellín</td>\n",
              "      <td>1</td>\n",
              "      <td>Tarjeta de crédito</td>\n",
              "      <td>4</td>\n",
              "      <td>6.25184</td>\n",
              "      <td>-75.56359</td>\n",
              "    </tr>\n",
              "    <tr>\n",
              "      <th>2</th>\n",
              "      <td>Juego de mesa</td>\n",
              "      <td>Juguetes</td>\n",
              "      <td>209600.0</td>\n",
              "      <td>15900.0</td>\n",
              "      <td>15/03/2021</td>\n",
              "      <td>Juan Fernandez</td>\n",
              "      <td>Cartagena</td>\n",
              "      <td>1</td>\n",
              "      <td>Tarjeta de crédito</td>\n",
              "      <td>1</td>\n",
              "      <td>10.39972</td>\n",
              "      <td>-75.51444</td>\n",
              "    </tr>\n",
              "    <tr>\n",
              "      <th>3</th>\n",
              "      <td>Microondas</td>\n",
              "      <td>Electrodomésticos</td>\n",
              "      <td>757500.0</td>\n",
              "      <td>41000.0</td>\n",
              "      <td>03/05/2022</td>\n",
              "      <td>Juan Fernandez</td>\n",
              "      <td>Cali</td>\n",
              "      <td>4</td>\n",
              "      <td>Nequi</td>\n",
              "      <td>1</td>\n",
              "      <td>3.43722</td>\n",
              "      <td>-76.52250</td>\n",
              "    </tr>\n",
              "    <tr>\n",
              "      <th>4</th>\n",
              "      <td>Silla de oficina</td>\n",
              "      <td>Muebles</td>\n",
              "      <td>335200.0</td>\n",
              "      <td>20200.0</td>\n",
              "      <td>07/11/2020</td>\n",
              "      <td>Maria Alfonso</td>\n",
              "      <td>Medellín</td>\n",
              "      <td>5</td>\n",
              "      <td>Nequi</td>\n",
              "      <td>1</td>\n",
              "      <td>6.25184</td>\n",
              "      <td>-75.56359</td>\n",
              "    </tr>\n",
              "  </tbody>\n",
              "</table>\n",
              "</div>\n",
              "    <div class=\"colab-df-buttons\">\n",
              "\n",
              "  <div class=\"colab-df-container\">\n",
              "    <button class=\"colab-df-convert\" onclick=\"convertToInteractive('df-77b11364-0e35-4e4e-bea2-576b6a59fb0c')\"\n",
              "            title=\"Convert this dataframe to an interactive table.\"\n",
              "            style=\"display:none;\">\n",
              "\n",
              "  <svg xmlns=\"http://www.w3.org/2000/svg\" height=\"24px\" viewBox=\"0 -960 960 960\">\n",
              "    <path d=\"M120-120v-720h720v720H120Zm60-500h600v-160H180v160Zm220 220h160v-160H400v160Zm0 220h160v-160H400v160ZM180-400h160v-160H180v160Zm440 0h160v-160H620v160ZM180-180h160v-160H180v160Zm440 0h160v-160H620v160Z\"/>\n",
              "  </svg>\n",
              "    </button>\n",
              "\n",
              "  <style>\n",
              "    .colab-df-container {\n",
              "      display:flex;\n",
              "      gap: 12px;\n",
              "    }\n",
              "\n",
              "    .colab-df-convert {\n",
              "      background-color: #E8F0FE;\n",
              "      border: none;\n",
              "      border-radius: 50%;\n",
              "      cursor: pointer;\n",
              "      display: none;\n",
              "      fill: #1967D2;\n",
              "      height: 32px;\n",
              "      padding: 0 0 0 0;\n",
              "      width: 32px;\n",
              "    }\n",
              "\n",
              "    .colab-df-convert:hover {\n",
              "      background-color: #E2EBFA;\n",
              "      box-shadow: 0px 1px 2px rgba(60, 64, 67, 0.3), 0px 1px 3px 1px rgba(60, 64, 67, 0.15);\n",
              "      fill: #174EA6;\n",
              "    }\n",
              "\n",
              "    .colab-df-buttons div {\n",
              "      margin-bottom: 4px;\n",
              "    }\n",
              "\n",
              "    [theme=dark] .colab-df-convert {\n",
              "      background-color: #3B4455;\n",
              "      fill: #D2E3FC;\n",
              "    }\n",
              "\n",
              "    [theme=dark] .colab-df-convert:hover {\n",
              "      background-color: #434B5C;\n",
              "      box-shadow: 0px 1px 3px 1px rgba(0, 0, 0, 0.15);\n",
              "      filter: drop-shadow(0px 1px 2px rgba(0, 0, 0, 0.3));\n",
              "      fill: #FFFFFF;\n",
              "    }\n",
              "  </style>\n",
              "\n",
              "    <script>\n",
              "      const buttonEl =\n",
              "        document.querySelector('#df-77b11364-0e35-4e4e-bea2-576b6a59fb0c button.colab-df-convert');\n",
              "      buttonEl.style.display =\n",
              "        google.colab.kernel.accessAllowed ? 'block' : 'none';\n",
              "\n",
              "      async function convertToInteractive(key) {\n",
              "        const element = document.querySelector('#df-77b11364-0e35-4e4e-bea2-576b6a59fb0c');\n",
              "        const dataTable =\n",
              "          await google.colab.kernel.invokeFunction('convertToInteractive',\n",
              "                                                    [key], {});\n",
              "        if (!dataTable) return;\n",
              "\n",
              "        const docLinkHtml = 'Like what you see? Visit the ' +\n",
              "          '<a target=\"_blank\" href=https://colab.research.google.com/notebooks/data_table.ipynb>data table notebook</a>'\n",
              "          + ' to learn more about interactive tables.';\n",
              "        element.innerHTML = '';\n",
              "        dataTable['output_type'] = 'display_data';\n",
              "        await google.colab.output.renderOutput(dataTable, element);\n",
              "        const docLink = document.createElement('div');\n",
              "        docLink.innerHTML = docLinkHtml;\n",
              "        element.appendChild(docLink);\n",
              "      }\n",
              "    </script>\n",
              "  </div>\n",
              "\n",
              "\n",
              "<div id=\"df-6f94fcfe-4b2a-452a-9c25-9f17237e05d4\">\n",
              "  <button class=\"colab-df-quickchart\" onclick=\"quickchart('df-6f94fcfe-4b2a-452a-9c25-9f17237e05d4')\"\n",
              "            title=\"Suggest charts\"\n",
              "            style=\"display:none;\">\n",
              "\n",
              "<svg xmlns=\"http://www.w3.org/2000/svg\" height=\"24px\"viewBox=\"0 0 24 24\"\n",
              "     width=\"24px\">\n",
              "    <g>\n",
              "        <path d=\"M19 3H5c-1.1 0-2 .9-2 2v14c0 1.1.9 2 2 2h14c1.1 0 2-.9 2-2V5c0-1.1-.9-2-2-2zM9 17H7v-7h2v7zm4 0h-2V7h2v10zm4 0h-2v-4h2v4z\"/>\n",
              "    </g>\n",
              "</svg>\n",
              "  </button>\n",
              "\n",
              "<style>\n",
              "  .colab-df-quickchart {\n",
              "      --bg-color: #E8F0FE;\n",
              "      --fill-color: #1967D2;\n",
              "      --hover-bg-color: #E2EBFA;\n",
              "      --hover-fill-color: #174EA6;\n",
              "      --disabled-fill-color: #AAA;\n",
              "      --disabled-bg-color: #DDD;\n",
              "  }\n",
              "\n",
              "  [theme=dark] .colab-df-quickchart {\n",
              "      --bg-color: #3B4455;\n",
              "      --fill-color: #D2E3FC;\n",
              "      --hover-bg-color: #434B5C;\n",
              "      --hover-fill-color: #FFFFFF;\n",
              "      --disabled-bg-color: #3B4455;\n",
              "      --disabled-fill-color: #666;\n",
              "  }\n",
              "\n",
              "  .colab-df-quickchart {\n",
              "    background-color: var(--bg-color);\n",
              "    border: none;\n",
              "    border-radius: 50%;\n",
              "    cursor: pointer;\n",
              "    display: none;\n",
              "    fill: var(--fill-color);\n",
              "    height: 32px;\n",
              "    padding: 0;\n",
              "    width: 32px;\n",
              "  }\n",
              "\n",
              "  .colab-df-quickchart:hover {\n",
              "    background-color: var(--hover-bg-color);\n",
              "    box-shadow: 0 1px 2px rgba(60, 64, 67, 0.3), 0 1px 3px 1px rgba(60, 64, 67, 0.15);\n",
              "    fill: var(--button-hover-fill-color);\n",
              "  }\n",
              "\n",
              "  .colab-df-quickchart-complete:disabled,\n",
              "  .colab-df-quickchart-complete:disabled:hover {\n",
              "    background-color: var(--disabled-bg-color);\n",
              "    fill: var(--disabled-fill-color);\n",
              "    box-shadow: none;\n",
              "  }\n",
              "\n",
              "  .colab-df-spinner {\n",
              "    border: 2px solid var(--fill-color);\n",
              "    border-color: transparent;\n",
              "    border-bottom-color: var(--fill-color);\n",
              "    animation:\n",
              "      spin 1s steps(1) infinite;\n",
              "  }\n",
              "\n",
              "  @keyframes spin {\n",
              "    0% {\n",
              "      border-color: transparent;\n",
              "      border-bottom-color: var(--fill-color);\n",
              "      border-left-color: var(--fill-color);\n",
              "    }\n",
              "    20% {\n",
              "      border-color: transparent;\n",
              "      border-left-color: var(--fill-color);\n",
              "      border-top-color: var(--fill-color);\n",
              "    }\n",
              "    30% {\n",
              "      border-color: transparent;\n",
              "      border-left-color: var(--fill-color);\n",
              "      border-top-color: var(--fill-color);\n",
              "      border-right-color: var(--fill-color);\n",
              "    }\n",
              "    40% {\n",
              "      border-color: transparent;\n",
              "      border-right-color: var(--fill-color);\n",
              "      border-top-color: var(--fill-color);\n",
              "    }\n",
              "    60% {\n",
              "      border-color: transparent;\n",
              "      border-right-color: var(--fill-color);\n",
              "    }\n",
              "    80% {\n",
              "      border-color: transparent;\n",
              "      border-right-color: var(--fill-color);\n",
              "      border-bottom-color: var(--fill-color);\n",
              "    }\n",
              "    90% {\n",
              "      border-color: transparent;\n",
              "      border-bottom-color: var(--fill-color);\n",
              "    }\n",
              "  }\n",
              "</style>\n",
              "\n",
              "  <script>\n",
              "    async function quickchart(key) {\n",
              "      const quickchartButtonEl =\n",
              "        document.querySelector('#' + key + ' button');\n",
              "      quickchartButtonEl.disabled = true;  // To prevent multiple clicks.\n",
              "      quickchartButtonEl.classList.add('colab-df-spinner');\n",
              "      try {\n",
              "        const charts = await google.colab.kernel.invokeFunction(\n",
              "            'suggestCharts', [key], {});\n",
              "      } catch (error) {\n",
              "        console.error('Error during call to suggestCharts:', error);\n",
              "      }\n",
              "      quickchartButtonEl.classList.remove('colab-df-spinner');\n",
              "      quickchartButtonEl.classList.add('colab-df-quickchart-complete');\n",
              "    }\n",
              "    (() => {\n",
              "      let quickchartButtonEl =\n",
              "        document.querySelector('#df-6f94fcfe-4b2a-452a-9c25-9f17237e05d4 button');\n",
              "      quickchartButtonEl.style.display =\n",
              "        google.colab.kernel.accessAllowed ? 'block' : 'none';\n",
              "    })();\n",
              "  </script>\n",
              "</div>\n",
              "\n",
              "    </div>\n",
              "  </div>\n"
            ],
            "application/vnd.google.colaboratory.intrinsic+json": {
              "type": "dataframe",
              "variable_name": "tienda",
              "summary": "{\n  \"name\": \"tienda\",\n  \"rows\": 2359,\n  \"fields\": [\n    {\n      \"column\": \"Producto\",\n      \"properties\": {\n        \"dtype\": \"category\",\n        \"num_unique_values\": 51,\n        \"samples\": [\n          \"Guitarra ac\\u00fastica\",\n          \"Bal\\u00f3n de baloncesto\",\n          \"Smartwatch\"\n        ],\n        \"semantic_type\": \"\",\n        \"description\": \"\"\n      }\n    },\n    {\n      \"column\": \"Categor\\u00eda del Producto\",\n      \"properties\": {\n        \"dtype\": \"category\",\n        \"num_unique_values\": 8,\n        \"samples\": [\n          \"Muebles\",\n          \"Deportes y diversi\\u00f3n\",\n          \"Electr\\u00f3nicos\"\n        ],\n        \"semantic_type\": \"\",\n        \"description\": \"\"\n      }\n    },\n    {\n      \"column\": \"Precio\",\n      \"properties\": {\n        \"dtype\": \"number\",\n        \"std\": 614686.7653873172,\n        \"min\": 7600.0,\n        \"max\": 2977000.0,\n        \"num_unique_values\": 1937,\n        \"samples\": [\n          2499400.0,\n          14800.0,\n          80500.0\n        ],\n        \"semantic_type\": \"\",\n        \"description\": \"\"\n      }\n    },\n    {\n      \"column\": \"Costo de env\\u00edo\",\n      \"properties\": {\n        \"dtype\": \"number\",\n        \"std\": 32860.0017825605,\n        \"min\": 0.0,\n        \"max\": 160800.0,\n        \"num_unique_values\": 753,\n        \"samples\": [\n          117800.0,\n          54700.0,\n          45600.0\n        ],\n        \"semantic_type\": \"\",\n        \"description\": \"\"\n      }\n    },\n    {\n      \"column\": \"Fecha de Compra\",\n      \"properties\": {\n        \"dtype\": \"object\",\n        \"num_unique_values\": 1018,\n        \"samples\": [\n          \"15/09/2022\",\n          \"03/06/2020\",\n          \"06/11/2021\"\n        ],\n        \"semantic_type\": \"\",\n        \"description\": \"\"\n      }\n    },\n    {\n      \"column\": \"Vendedor\",\n      \"properties\": {\n        \"dtype\": \"category\",\n        \"num_unique_values\": 14,\n        \"samples\": [\n          \"Juliana Costa\",\n          \"Mariana Herrera\",\n          \"Pedro Gomez\"\n        ],\n        \"semantic_type\": \"\",\n        \"description\": \"\"\n      }\n    },\n    {\n      \"column\": \"Lugar de Compra\",\n      \"properties\": {\n        \"dtype\": \"category\",\n        \"num_unique_values\": 19,\n        \"samples\": [\n          \"Bogot\\u00e1\",\n          \"Pereira\",\n          \"Neiva\"\n        ],\n        \"semantic_type\": \"\",\n        \"description\": \"\"\n      }\n    },\n    {\n      \"column\": \"Calificaci\\u00f3n\",\n      \"properties\": {\n        \"dtype\": \"number\",\n        \"std\": 1,\n        \"min\": 1,\n        \"max\": 5,\n        \"num_unique_values\": 5,\n        \"samples\": [\n          1,\n          2,\n          5\n        ],\n        \"semantic_type\": \"\",\n        \"description\": \"\"\n      }\n    },\n    {\n      \"column\": \"M\\u00e9todo de pago\",\n      \"properties\": {\n        \"dtype\": \"category\",\n        \"num_unique_values\": 4,\n        \"samples\": [\n          \"Nequi\",\n          \"Tarjeta de d\\u00e9bito\",\n          \"Tarjeta de cr\\u00e9dito\"\n        ],\n        \"semantic_type\": \"\",\n        \"description\": \"\"\n      }\n    },\n    {\n      \"column\": \"Cantidad de cuotas\",\n      \"properties\": {\n        \"dtype\": \"number\",\n        \"std\": 2,\n        \"min\": 1,\n        \"max\": 24,\n        \"num_unique_values\": 15,\n        \"samples\": [\n          7,\n          14,\n          8\n        ],\n        \"semantic_type\": \"\",\n        \"description\": \"\"\n      }\n    },\n    {\n      \"column\": \"lat\",\n      \"properties\": {\n        \"dtype\": \"number\",\n        \"std\": 2.2874452492678627,\n        \"min\": -4.21528,\n        \"max\": 11.54444,\n        \"num_unique_values\": 19,\n        \"samples\": [\n          4.60971,\n          4.81333,\n          2.9273\n        ],\n        \"semantic_type\": \"\",\n        \"description\": \"\"\n      }\n    },\n    {\n      \"column\": \"lon\",\n      \"properties\": {\n        \"dtype\": \"number\",\n        \"std\": 1.2178272727088486,\n        \"min\": -77.28111,\n        \"max\": -67.9239,\n        \"num_unique_values\": 19,\n        \"samples\": [\n          -74.08175,\n          -75.69611,\n          -75.28189\n        ],\n        \"semantic_type\": \"\",\n        \"description\": \"\"\n      }\n    }\n  ]\n}"
            }
          },
          "metadata": {},
          "execution_count": 2
        }
      ],
      "source": [
        "import pandas as pd\n",
        "\n",
        "url = \"https://raw.githubusercontent.com/alura-es-cursos/challenge1-data-science-latam/refs/heads/main/base-de-datos-challenge1-latam/tienda_1%20.csv\"\n",
        "url2 = \"https://raw.githubusercontent.com/alura-es-cursos/challenge1-data-science-latam/refs/heads/main/base-de-datos-challenge1-latam/tienda_2.csv\"\n",
        "url3 = \"https://raw.githubusercontent.com/alura-es-cursos/challenge1-data-science-latam/refs/heads/main/base-de-datos-challenge1-latam/tienda_3.csv\"\n",
        "url4 = \"https://raw.githubusercontent.com/alura-es-cursos/challenge1-data-science-latam/refs/heads/main/base-de-datos-challenge1-latam/tienda_4.csv\"\n",
        "\n",
        "tienda = pd.read_csv(url)\n",
        "tienda2 = pd.read_csv(url2)\n",
        "tienda3 = pd.read_csv(url3)\n",
        "tienda4 = pd.read_csv(url4)\n",
        "\n",
        "tienda.head()"
      ]
    },
    {
      "cell_type": "markdown",
      "source": [
        "#1. Análisis de facturación\n",
        "\n"
      ],
      "metadata": {
        "id": "X62IW3KFUIYm"
      }
    },
    {
      "cell_type": "code",
      "source": [
        "# Saber explicitamente como se llaman las columnas de dataframe.\n",
        "print(tienda.columns)"
      ],
      "metadata": {
        "id": "KDyr8E71V3m-",
        "colab": {
          "base_uri": "https://localhost:8080/"
        },
        "outputId": "2049f67e-4626-4499-cfb9-f5edf3038ee2"
      },
      "execution_count": 3,
      "outputs": [
        {
          "output_type": "stream",
          "name": "stdout",
          "text": [
            "Index(['Producto', 'Categoría del Producto', 'Precio', 'Costo de envío',\n",
            "       'Fecha de Compra', 'Vendedor', 'Lugar de Compra', 'Calificación',\n",
            "       'Método de pago', 'Cantidad de cuotas', 'lat', 'lon'],\n",
            "      dtype='object')\n"
          ]
        }
      ]
    },
    {
      "cell_type": "code",
      "source": [
        "# Averiguar como sumar correctamente la columna de precios, entendiendo que son los precios a los cuales fueron vendidos cada artiuclo y con ello saber cuanto vendio cada tienda, en este caso solo con la priera tienda.\n",
        "suma_de_precios = tienda[\"Precio\"].sum()\n",
        "print(suma_de_precios)"
      ],
      "metadata": {
        "id": "xykobSftV64I",
        "colab": {
          "base_uri": "https://localhost:8080/"
        },
        "collapsed": true,
        "outputId": "1a7396bd-257a-4f14-ae3c-c26a3064f7b4"
      },
      "execution_count": 4,
      "outputs": [
        {
          "output_type": "stream",
          "name": "stdout",
          "text": [
            "1150880400.0\n"
          ]
        }
      ]
    },
    {
      "cell_type": "code",
      "source": [
        "# Para continuar con el analisis de todas las tiendas.\n",
        "# Creare una lista de los dataframes para usarla como lista iterable\n",
        "\n",
        "tiendas_df = [tienda, tienda2, tienda3, tienda4]\n",
        "\n",
        "# Crearé otra lista con los nombres de los dataframes y usar como etiqueda en el futuro y no procesar los dataframes completos.\n",
        "\n",
        "nombres_tiendas = [\"tienda\", \"tienda2\", \"tienda3\", \"tienda4\"]\n",
        "\n",
        "# Crearé otra lista vacia de la suma de los precios de cada tienda.\n",
        "\n",
        "suma_de_precios_por_tienda = []\n",
        "\n",
        "# Sumaré los Precios es el costo por el cual se vendio cada producto de cada tienda, usando la lista tiendas de forma iterable.\n",
        "\n",
        "for tienda_dataframe in tiendas_df :\n",
        "  suma_de_Precios = tienda_dataframe[\"Precio\"].sum()\n",
        "\n",
        "# Agregaré cada suma de precios por tienda a al lista vacia anteriormente creada suma_de_precios_por_tienda\n",
        "\n",
        "  suma_de_precios_por_tienda.append(suma_de_Precios)\n",
        "\n",
        "# Convertir cada suma de precios a un tipo float.\n",
        "\n",
        "suma_de_precios_por_tienda = [float(precio) for precio in suma_de_precios_por_tienda]\n",
        "\n",
        "print(suma_de_precios_por_tienda)\n"
      ],
      "metadata": {
        "collapsed": true,
        "id": "rFYPXYf1MzuQ",
        "outputId": "f0bc628e-37b0-4da9-9959-137e58c3f7e4",
        "colab": {
          "base_uri": "https://localhost:8080/"
        }
      },
      "execution_count": 13,
      "outputs": [
        {
          "output_type": "stream",
          "name": "stdout",
          "text": [
            "[1150880400.0, 1116343500.0, 1098019600.0, 1038375700.0]\n"
          ]
        }
      ]
    },
    {
      "cell_type": "code",
      "source": [
        "# Generare una lista de tuplas con nombre del dataframe de las tiendas y el resutados de la suma_de_precios_por_tienda\n",
        "\n",
        "resultado_de_tienda_y_suma_de_precios = list(zip(nombres_tiendas, suma_de_precios_por_tienda))\n",
        "\n",
        "print(resultado_de_tienda_y_suma_de_precios)\n",
        "\n"
      ],
      "metadata": {
        "id": "hyNRm771MziJ",
        "outputId": "d2992aa6-2a6d-4156-fdf6-165e0415f599",
        "colab": {
          "base_uri": "https://localhost:8080/"
        }
      },
      "execution_count": 14,
      "outputs": [
        {
          "output_type": "stream",
          "name": "stdout",
          "text": [
            "[('tienda', 1150880400.0), ('tienda2', 1116343500.0), ('tienda3', 1098019600.0), ('tienda4', 1038375700.0)]\n"
          ]
        }
      ]
    },
    {
      "cell_type": "code",
      "source": [
        "# Con los resultados de precio de venta total por tienda y el nombre identificador de tienda, construire graficos explicativos y comparativos de deichos datos.\n",
        "\n",
        "# Para ello: Instalaré MATPLOTLIB\n",
        "\n",
        "!pip install matplotlib"
      ],
      "metadata": {
        "colab": {
          "base_uri": "https://localhost:8080/"
        },
        "id": "FBbpS7KFUgCr",
        "outputId": "a899b6aa-1557-44a0-9f30-329eed70c5a7"
      },
      "execution_count": 18,
      "outputs": [
        {
          "output_type": "stream",
          "name": "stdout",
          "text": [
            "Requirement already satisfied: matplotlib in /usr/local/lib/python3.11/dist-packages (3.10.0)\n",
            "Requirement already satisfied: contourpy>=1.0.1 in /usr/local/lib/python3.11/dist-packages (from matplotlib) (1.3.2)\n",
            "Requirement already satisfied: cycler>=0.10 in /usr/local/lib/python3.11/dist-packages (from matplotlib) (0.12.1)\n",
            "Requirement already satisfied: fonttools>=4.22.0 in /usr/local/lib/python3.11/dist-packages (from matplotlib) (4.57.0)\n",
            "Requirement already satisfied: kiwisolver>=1.3.1 in /usr/local/lib/python3.11/dist-packages (from matplotlib) (1.4.8)\n",
            "Requirement already satisfied: numpy>=1.23 in /usr/local/lib/python3.11/dist-packages (from matplotlib) (2.0.2)\n",
            "Requirement already satisfied: packaging>=20.0 in /usr/local/lib/python3.11/dist-packages (from matplotlib) (24.2)\n",
            "Requirement already satisfied: pillow>=8 in /usr/local/lib/python3.11/dist-packages (from matplotlib) (11.1.0)\n",
            "Requirement already satisfied: pyparsing>=2.3.1 in /usr/local/lib/python3.11/dist-packages (from matplotlib) (3.2.3)\n",
            "Requirement already satisfied: python-dateutil>=2.7 in /usr/local/lib/python3.11/dist-packages (from matplotlib) (2.8.2)\n",
            "Requirement already satisfied: six>=1.5 in /usr/local/lib/python3.11/dist-packages (from python-dateutil>=2.7->matplotlib) (1.17.0)\n"
          ]
        }
      ]
    },
    {
      "cell_type": "code",
      "source": [
        "matplotlib_version = !pip show matplotlib\n",
        "print(matplotlib_version)"
      ],
      "metadata": {
        "colab": {
          "base_uri": "https://localhost:8080/"
        },
        "id": "dUcxaEHCcbf5",
        "outputId": "c3c1f9cb-23ef-4bb0-f1dc-607f03ad764a"
      },
      "execution_count": 20,
      "outputs": [
        {
          "output_type": "stream",
          "name": "stdout",
          "text": [
            "['Name: matplotlib', 'Version: 3.10.0', 'Summary: Python plotting package', 'Home-page: https://matplotlib.org', 'Author: John D. Hunter, Michael Droettboom', 'Author-email: Unknown <matplotlib-users@python.org>', 'License: License agreement for matplotlib versions 1.3.0 and later', ' =========================================================', '', ' 1. This LICENSE AGREEMENT is between the Matplotlib Development Team', ' (\"MDT\"), and the Individual or Organization (\"Licensee\") accessing and', ' otherwise using matplotlib software in source or binary form and its', ' associated documentation.', '', ' 2. Subject to the terms and conditions of this License Agreement, MDT', ' hereby grants Licensee a nonexclusive, royalty-free, world-wide license', ' to reproduce, analyze, test, perform and/or display publicly, prepare', ' derivative works, distribute, and otherwise use matplotlib', \" alone or in any derivative version, provided, however, that MDT's\", ' License Agreement and MDT\\'s notice of copyright, i.e., \"Copyright (c)', ' 2012- Matplotlib Development Team; All Rights Reserved\" are retained in', ' matplotlib  alone or in any derivative version prepared by', ' Licensee.', '', ' 3. In the event Licensee prepares a derivative work that is based on or', ' incorporates matplotlib or any part thereof, and wants to', ' make the derivative work available to others as provided herein, then', ' Licensee hereby agrees to include in any such work a brief summary of', ' the changes made to matplotlib .', '', ' 4. MDT is making matplotlib available to Licensee on an \"AS', ' IS\" basis.  MDT MAKES NO REPRESENTATIONS OR WARRANTIES, EXPRESS OR', ' IMPLIED.  BY WAY OF EXAMPLE, BUT NOT LIMITATION, MDT MAKES NO AND', ' DISCLAIMS ANY REPRESENTATION OR WARRANTY OF MERCHANTABILITY OR FITNESS', ' FOR ANY PARTICULAR PURPOSE OR THAT THE USE OF MATPLOTLIB', ' WILL NOT INFRINGE ANY THIRD PARTY RIGHTS.', '', ' 5. MDT SHALL NOT BE LIABLE TO LICENSEE OR ANY OTHER USERS OF MATPLOTLIB', '  FOR ANY INCIDENTAL, SPECIAL, OR CONSEQUENTIAL DAMAGES OR', ' LOSS AS A RESULT OF MODIFYING, DISTRIBUTING, OR OTHERWISE USING', ' MATPLOTLIB , OR ANY DERIVATIVE THEREOF, EVEN IF ADVISED OF', ' THE POSSIBILITY THEREOF.', '', ' 6. This License Agreement will automatically terminate upon a material', ' breach of its terms and conditions.', '', ' 7. Nothing in this License Agreement shall be deemed to create any', ' relationship of agency, partnership, or joint venture between MDT and', ' Licensee.  This License Agreement does not grant permission to use MDT', ' trademarks or trade name in a trademark sense to endorse or promote', ' products or services of Licensee, or any third party.', '', ' 8. By copying, installing or otherwise using matplotlib ,', ' Licensee agrees to be bound by the terms and conditions of this License', ' Agreement.', '', ' License agreement for matplotlib versions prior to 1.3.0', ' ========================================================', '', ' 1. This LICENSE AGREEMENT is between John D. Hunter (\"JDH\"), and the', ' Individual or Organization (\"Licensee\") accessing and otherwise using', ' matplotlib software in source or binary form and its associated', ' documentation.', '', ' 2. Subject to the terms and conditions of this License Agreement, JDH', ' hereby grants Licensee a nonexclusive, royalty-free, world-wide license', ' to reproduce, analyze, test, perform and/or display publicly, prepare', ' derivative works, distribute, and otherwise use matplotlib', \" alone or in any derivative version, provided, however, that JDH's\", ' License Agreement and JDH\\'s notice of copyright, i.e., \"Copyright (c)', ' 2002-2011 John D. Hunter; All Rights Reserved\" are retained in', ' matplotlib  alone or in any derivative version prepared by', ' Licensee.', '', ' 3. In the event Licensee prepares a derivative work that is based on or', ' incorporates matplotlib  or any part thereof, and wants to', ' make the derivative work available to others as provided herein, then', ' Licensee hereby agrees to include in any such work a brief summary of', ' the changes made to matplotlib.', '', ' 4. JDH is making matplotlib  available to Licensee on an \"AS', ' IS\" basis.  JDH MAKES NO REPRESENTATIONS OR WARRANTIES, EXPRESS OR', ' IMPLIED.  BY WAY OF EXAMPLE, BUT NOT LIMITATION, JDH MAKES NO AND', ' DISCLAIMS ANY REPRESENTATION OR WARRANTY OF MERCHANTABILITY OR FITNESS', ' FOR ANY PARTICULAR PURPOSE OR THAT THE USE OF MATPLOTLIB', ' WILL NOT INFRINGE ANY THIRD PARTY RIGHTS.', '', ' 5. JDH SHALL NOT BE LIABLE TO LICENSEE OR ANY OTHER USERS OF MATPLOTLIB', '  FOR ANY INCIDENTAL, SPECIAL, OR CONSEQUENTIAL DAMAGES OR', ' LOSS AS A RESULT OF MODIFYING, DISTRIBUTING, OR OTHERWISE USING', ' MATPLOTLIB , OR ANY DERIVATIVE THEREOF, EVEN IF ADVISED OF', ' THE POSSIBILITY THEREOF.', '', ' 6. This License Agreement will automatically terminate upon a material', ' breach of its terms and conditions.', '', ' 7. Nothing in this License Agreement shall be deemed to create any', ' relationship of agency, partnership, or joint venture between JDH and', ' Licensee.  This License Agreement does not grant permission to use JDH', ' trademarks or trade name in a trademark sense to endorse or promote', ' products or services of Licensee, or any third party.', '', ' 8. By copying, installing or otherwise using matplotlib,', ' Licensee agrees to be bound by the terms and conditions of this License', ' Agreement.', 'Location: /usr/local/lib/python3.11/dist-packages', 'Requires: contourpy, cycler, fonttools, kiwisolver, numpy, packaging, pillow, pyparsing, python-dateutil', 'Required-by: arviz, bigframes, datascience, fastai, geemap, matplotlib-venn, missingno, mlxtend, music21, plotnine, prophet, pycocotools, seaborn, wordcloud, yellowbrick']\n"
          ]
        }
      ]
    },
    {
      "cell_type": "code",
      "source": [
        "# Importaré la biblioteca MATPLOTLIB con el modulo de graficación PYPLOT.\n",
        "\n",
        "import matplotlib.pyplot as plt"
      ],
      "metadata": {
        "id": "KADdlnfodFzM"
      },
      "execution_count": 21,
      "outputs": []
    },
    {
      "cell_type": "code",
      "source": [
        "# Con Matplolib instalado y con las bibliotecas importadas, continuaré en generar los graficos explicativos.\n",
        "# Usaremos la variable con los datos resultado_de_tienda_y_suma_de_precios y extraeré los datos de la tupla para usarlos en cada eje del grafico.\n",
        "\n",
        "tiendas, facturacion = zip(*resultado_de_tienda_y_suma_de_precios)\n",
        "\n",
        "# Carateristicas de la figura\n",
        "\n",
        "grafico_facturacion_por_tienda = plt.figure(figsize=(10,5))\n",
        "\n",
        "plt.bar(tiendas, facturacion, color=\"royalblue\")\n",
        "plt.title(\"Facturación total por tienda\", fontsize=16)\n",
        "plt.xlabel(\"Tiendas\", fontsize=12)\n",
        "plt.ylabel(\"Facturación ($)\", fontsize=12)\n",
        "\n",
        "# Mostrar valores arriba de las barras\n",
        "for i, valor in enumerate(facturacion):\n",
        "    plt.text(i, valor + 1e7, f\"${valor:,.0f}\", ha=\"center\", fontsize=10)\n",
        "\n",
        "\n",
        "# Resaltaré que tienda es la menor facturación\n",
        "\n",
        "plt.text(2.6, facturacion[3] * 0.05,    'Menor facturación',    fontsize=14,    color='RED',    va='center')\n",
        "\n",
        "plt.tight_layout()\n",
        "plt.show()\n"
      ],
      "metadata": {
        "colab": {
          "base_uri": "https://localhost:8080/",
          "height": 507
        },
        "id": "wXZ66z3znDb2",
        "outputId": "d4c94ba0-09e6-4fa6-ed26-f6497d8c791e"
      },
      "execution_count": 67,
      "outputs": [
        {
          "output_type": "display_data",
          "data": {
            "text/plain": [
              "<Figure size 1000x500 with 1 Axes>"
            ],
            "image/png": "[encoded data removed]"
          },
          "metadata": {}
        }
      ]
    },
    {
      "cell_type": "markdown",
      "source": [
        "# 2. Ventas por categoría"
      ],
      "metadata": {
        "id": "2V_vcAPzWZmR"
      }
    },
    {
      "cell_type": "code",
      "source": [
        "# Saber explicitamente como se llaman las columnas de dataframe.\n",
        "print(tienda.columns)\n"
      ],
      "metadata": {
        "id": "A34YupIuYhfF",
        "colab": {
          "base_uri": "https://localhost:8080/"
        },
        "outputId": "b26d08c0-7144-4db8-8901-6b81e499fa24"
      },
      "execution_count": 68,
      "outputs": [
        {
          "output_type": "stream",
          "name": "stdout",
          "text": [
            "Index(['Producto', 'Categoría del Producto', 'Precio', 'Costo de envío',\n",
            "       'Fecha de Compra', 'Vendedor', 'Lugar de Compra', 'Calificación',\n",
            "       'Método de pago', 'Cantidad de cuotas', 'lat', 'lon'],\n",
            "      dtype='object')\n"
          ]
        }
      ]
    },
    {
      "cell_type": "code",
      "source": [
        "# Para continuar con el analisis de todas las tiendas, crearé un diccionario de diccionarios vacio para las ventas por categorai de cada tienda.\n",
        "\n",
        "ventas_por_categoria_por_tienda = {\n",
        "    \"tienda\": {},\n",
        "    \"tienda2\": {},\n",
        "    \"tienda3\": {},\n",
        "    \"tienda4\": {}\n",
        "}\n",
        "\n",
        "# Usare la lista de los dataframes para usarla como lista iterable\n",
        "\n",
        "tiendas_df = [tienda, tienda2, tienda3, tienda4]\n",
        "\n",
        "# Crearé otra lista con los nombres de los dataframes y usar como etiqueda en el futuro y no procesar los dataframes completos.\n",
        "\n",
        "nombres_tiendas = [\"tienda\", \"tienda2\", \"tienda3\", \"tienda4\"]\n",
        "\n",
        "# Mostraré cuantas categorias diferntes hay en una tienda.\n",
        "\n",
        "categorias_diferentes = tienda[\"Categoría del Producto\"].unique()\n",
        "\n",
        "# Mostraré cuantas ventas hay categorias diferntes hay en una tienda.\n",
        "\n",
        "suma_de_ventas_por_categoria = tienda[\"Categoría del Producto\"].value_counts()\n",
        "\n",
        "print(suma_de_ventas_por_categoria)"
      ],
      "metadata": {
        "id": "yZR6cOjXYSk1",
        "colab": {
          "base_uri": "https://localhost:8080/"
        },
        "outputId": "887f64a1-aa2d-455e-a561-6e283d26e69c"
      },
      "execution_count": 95,
      "outputs": [
        {
          "output_type": "stream",
          "name": "stdout",
          "text": [
            "Categoría del Producto\n",
            "Muebles                    480\n",
            "Electrónicos               451\n",
            "Juguetes                   338\n",
            "Deportes y diversión       277\n",
            "Electrodomésticos          254\n",
            "Artículos para el hogar    201\n",
            "Libros                     187\n",
            "Instrumentos musicales     170\n",
            "Name: count, dtype: int64\n"
          ]
        }
      ]
    },
    {
      "cell_type": "code",
      "source": [
        "# Hare iterable la funcion anterior para cada dataframe de cada tienda.\n",
        "\n",
        "for i, tienda in enumerate(tiendas_df):\n",
        "    nombre_tienda = nombres_tiendas[i]  # Obtener el nombre de la tienda correspondiente\n",
        "    suma_de_ventas_por_categoria = tienda[\"Categoría del Producto\"].value_counts()\n",
        "    ventas_por_categoria_por_tienda[nombre_tienda] = suma_de_ventas_por_categoria # Asignar al diccionario por nombre de tienda\n",
        "ventas_por_categoria_por_tienda"
      ],
      "metadata": {
        "colab": {
          "base_uri": "https://localhost:8080/"
        },
        "id": "bg9gLUNWrigz",
        "outputId": "98d3dc3a-365d-4d2d-ebc9-cd1912ad48d2"
      },
      "execution_count": 101,
      "outputs": [
        {
          "output_type": "execute_result",
          "data": {
            "text/plain": [
              "{'tienda': Categoría del Producto\n",
              " Muebles                    480\n",
              " Electrónicos               451\n",
              " Juguetes                   338\n",
              " Deportes y diversión       277\n",
              " Electrodomésticos          254\n",
              " Artículos para el hogar    201\n",
              " Libros                     187\n",
              " Instrumentos musicales     170\n",
              " Name: count, dtype: int64,\n",
              " 'tienda2': Categoría del Producto\n",
              " Muebles                    442\n",
              " Electrónicos               422\n",
              " Juguetes                   313\n",
              " Electrodomésticos          305\n",
              " Deportes y diversión       275\n",
              " Instrumentos musicales     224\n",
              " Libros                     197\n",
              " Artículos para el hogar    181\n",
              " Name: count, dtype: int64,\n",
              " 'tienda3': Categoría del Producto\n",
              " Muebles                    499\n",
              " Electrónicos               451\n",
              " Juguetes                   315\n",
              " Electrodomésticos          278\n",
              " Deportes y diversión       277\n",
              " Libros                     185\n",
              " Instrumentos musicales     177\n",
              " Artículos para el hogar    177\n",
              " Name: count, dtype: int64,\n",
              " 'tienda4': Categoría del Producto\n",
              " Muebles                    480\n",
              " Electrónicos               451\n",
              " Juguetes                   338\n",
              " Deportes y diversión       277\n",
              " Electrodomésticos          254\n",
              " Artículos para el hogar    201\n",
              " Libros                     187\n",
              " Instrumentos musicales     170\n",
              " Name: count, dtype: int64}"
            ]
          },
          "metadata": {},
          "execution_count": 101
        }
      ]
    },
    {
      "cell_type": "code",
      "source": [
        "# Definimos el diccionario como dataframe\n",
        "\n",
        "dataframe_de_diccionario_obtenido_de_ventas_por_categoria_por_tienda = pd.DataFrame(ventas_por_categoria_por_tienda)\n",
        "\n",
        "# Crear gráfico\n",
        "dataframe_de_diccionario_obtenido_de_ventas_por_categoria_por_tienda.plot(kind=\"bar\", figsize=(12, 6))\n",
        "plt.title(\"Cantidad de productos por categoría en cada tienda\")\n",
        "plt.ylabel(\"Cantidad\")\n",
        "plt.xlabel(\"Categoría del Producto\")\n",
        "plt.xticks(rotation=45)\n",
        "plt.tight_layout()\n",
        "plt.legend(title=\"Tienda\")\n",
        "plt.show()"
      ],
      "metadata": {
        "colab": {
          "base_uri": "https://localhost:8080/",
          "height": 607
        },
        "id": "SEWvVPMjnyNv",
        "outputId": "bc427730-07ae-4fee-d56f-02f01f32c44f"
      },
      "execution_count": 103,
      "outputs": [
        {
          "output_type": "display_data",
          "data": {
            "text/plain": [
              "<Figure size 1200x600 with 1 Axes>"
            ],
            "image/png": "[encoded data removed]"
          },
          "metadata": {}
        }
      ]
    },
    {
      "cell_type": "code",
      "source": [],
      "metadata": {
        "id": "sxPufWTrnyQy"
      },
      "execution_count": null,
      "outputs": []
    },
    {
      "cell_type": "code",
      "source": [],
      "metadata": {
        "id": "-TrPM0PwnyUz"
      },
      "execution_count": null,
      "outputs": []
    },
    {
      "cell_type": "markdown",
      "source": [
        "# 3. Calificación promedio de la tienda\n"
      ],
      "metadata": {
        "id": "Rq6tU_xSY3jk"
      }
    },
    {
      "cell_type": "code",
      "source": [],
      "metadata": {
        "id": "bh3jjjJwY5MU"
      },
      "execution_count": null,
      "outputs": []
    },
    {
      "cell_type": "code",
      "source": [],
      "metadata": {
        "id": "I0KkjPoTY88F"
      },
      "execution_count": null,
      "outputs": []
    },
    {
      "cell_type": "markdown",
      "source": [
        "# 4. Productos más y menos vendidos"
      ],
      "metadata": {
        "id": "DmNp1KPBZCm-"
      }
    },
    {
      "cell_type": "code",
      "source": [],
      "metadata": {
        "id": "qoyjqijQZHfF"
      },
      "execution_count": null,
      "outputs": []
    },
    {
      "cell_type": "code",
      "source": [],
      "metadata": {
        "id": "0Sw3sd4IZIGW"
      },
      "execution_count": null,
      "outputs": []
    },
    {
      "cell_type": "markdown",
      "source": [
        "# 5. Envío promedio por tienda"
      ],
      "metadata": {
        "id": "Fl0cGi3bZKqU"
      }
    },
    {
      "cell_type": "code",
      "source": [],
      "metadata": {
        "id": "S2JeaCykZNy9"
      },
      "execution_count": null,
      "outputs": []
    },
    {
      "cell_type": "code",
      "source": [],
      "metadata": {
        "id": "0tSdCie9ZQlt"
      },
      "execution_count": null,
      "outputs": []
    }
  ]
}